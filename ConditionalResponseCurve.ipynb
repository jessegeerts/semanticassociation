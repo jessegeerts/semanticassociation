{
 "cells": [
  {
   "cell_type": "code",
   "execution_count": 1,
   "metadata": {},
   "outputs": [],
   "source": [
    "import numpy as np\n",
    "import matplotlib.pyplot as plt\n",
    "from Gershman2012_replication import Agent\n",
    "\n",
    "n_trials = 500\n",
    "alpha_thresh = 0.0001\n",
    "c = -1\n",
    "kappa = 0.67  #(0.0 - 0.9)  # recurrent inhibition strength\n",
    "lambda_param = 1.17  #(0.0-0.9)  # lateral inhibition strength\n",
    "tau = 0.5  # time constant of accumulator\n",
    "recall_threshold = 1\n",
    "noise_std = 0.0003  # (0.0 - 0.8)\n",
    "learning_rate = .1  # learning rate for SR\n"
   ]
  },
  {
   "cell_type": "code",
   "execution_count": 2,
   "metadata": {},
   "outputs": [
    {
     "name": "stderr",
     "output_type": "stream",
     "text": [
      "/home/jgeerts/Projects/semanticassociation/Gershman2012_replication.py:107: RuntimeWarning: divide by zero encountered in true_divide\n",
      "  time_to_threshold = (threshold - intercept) / slope\n"
     ]
    }
   ],
   "source": [
    "# some example input words:\n",
    "text_body = 'A B C D E F G H I'\n",
    "word_list = text_body.split()\n",
    "sequence_length = len(word_list)\n",
    "# associate each word with a unique state index:\n",
    "word_index = {}\n",
    "idx = 0\n",
    "for word in word_list:\n",
    "    if word not in word_index:\n",
    "        word_index[word] = idx\n",
    "        idx += 1\n",
    "\n",
    "# generate some word sequence from the body of text (the word sequence the agent will see)\n",
    "word_sequence = ['A', 'B', 'C', 'D', 'E', 'F', 'G', 'H', 'I']\n",
    "# translate to state indices:lag_matrix\n",
    "state_sequence = [word_index[word] for word in word_sequence]\n",
    "word_order = [word_index[word] for word in word_list]\n",
    "number_of_recalls = range(len(word_index))\n",
    "\n",
    "# initialise agent:\n",
    "ag = Agent(len(word_list), learning_rate=learning_rate)\n",
    "\n",
    "L = np.ones((len(word_list), len(word_list))) - np.eye(len(word_list))\n",
    "\n",
    "all_recalled_words = []\n",
    "# learn for a given number of trials.\n",
    "for trial in range(n_trials):\n",
    "    ag.reset_trace()\n",
    "    ag.reset_matrix()\n",
    "    ag.reset_x()\n",
    "    # learning over M does not accumulate across different trials (each trial is tested with free recall\n",
    "    # individually)\n",
    "    for t in range(len(state_sequence) - 1):\n",
    "        ag.update(state_sequence[t], state_sequence[t + 1])\n",
    "\n",
    "    ag.SR_Ms[:, :, trial] = ag.M\n",
    "    # ADD FREE RECALL AFTER EACH TRIAL HERE\n",
    "    recalled_words = ag.do_free_recall_LBA(number_of_recalls)\n",
    "    all_recalled_words.append(recalled_words)\n"
   ]
  },
  {
   "cell_type": "code",
   "execution_count": 3,
   "metadata": {},
   "outputs": [],
   "source": [
    "rw = np.array(all_recalled_words)"
   ]
  },
  {
   "cell_type": "code",
   "execution_count": 4,
   "metadata": {},
   "outputs": [],
   "source": [
    "lag_matrix = np.empty((ag.n,ag.n))\n",
    "for i in range(ag.n):\n",
    "    startletter = word_sequence[i]\n",
    "    for j in range(ag.n):\n",
    "        endletter = word_sequence[j]\n",
    "        lag_matrix[i,j] = word_sequence.index(endletter) - word_sequence.index(startletter)\n",
    "        "
   ]
  },
  {
   "cell_type": "code",
   "execution_count": 5,
   "metadata": {},
   "outputs": [
    {
     "data": {
      "text/plain": [
       "array([[ 0.,  1.,  2.,  3.,  4.,  5.,  6.,  7.,  8.],\n",
       "       [-1.,  0.,  1.,  2.,  3.,  4.,  5.,  6.,  7.],\n",
       "       [-2., -1.,  0.,  1.,  2.,  3.,  4.,  5.,  6.],\n",
       "       [-3., -2., -1.,  0.,  1.,  2.,  3.,  4.,  5.],\n",
       "       [-4., -3., -2., -1.,  0.,  1.,  2.,  3.,  4.],\n",
       "       [-5., -4., -3., -2., -1.,  0.,  1.,  2.,  3.],\n",
       "       [-6., -5., -4., -3., -2., -1.,  0.,  1.,  2.],\n",
       "       [-7., -6., -5., -4., -3., -2., -1.,  0.,  1.],\n",
       "       [-8., -7., -6., -5., -4., -3., -2., -1.,  0.]])"
      ]
     },
     "execution_count": 5,
     "metadata": {},
     "output_type": "execute_result"
    }
   ],
   "source": [
    "lag_matrix"
   ]
  },
  {
   "cell_type": "code",
   "execution_count": 6,
   "metadata": {},
   "outputs": [],
   "source": [
    "lag_count = {i:0 for i in list(range(-8,9))}\n",
    "\n",
    "counter = 0 \n",
    "for trial in rw:\n",
    "    for i, startword in enumerate(trial[:-1]):\n",
    "        nextword = trial[i+1]\n",
    "        lag = lag_matrix[startword, nextword]\n",
    "        lag_count[lag] += 1\n",
    "        counter+=1"
   ]
  },
  {
   "cell_type": "code",
   "execution_count": 7,
   "metadata": {},
   "outputs": [
    {
     "data": {
      "text/plain": [
       "[<matplotlib.lines.Line2D at 0x7f7e59e2fa58>]"
      ]
     },
     "execution_count": 7,
     "metadata": {},
     "output_type": "execute_result"
    },
    {
     "data": {
      "image/png": "[encoded data removed]",
      "text/plain": [
       "<Figure size 432x288 with 1 Axes>"
      ]
     },
     "metadata": {
      "needs_background": "light"
     },
     "output_type": "display_data"
    }
   ],
   "source": [
    "plt.plot([i for i in lag_count.keys()], [i/ counter for i in lag_count.values()])"
   ]
  },
  {
   "cell_type": "code",
   "execution_count": 8,
   "metadata": {},
   "outputs": [
    {
     "data": {
      "text/plain": [
       "{-8: 55,\n",
       " -7: 120,\n",
       " -6: 147,\n",
       " -5: 218,\n",
       " -4: 257,\n",
       " -3: 294,\n",
       " -2: 338,\n",
       " -1: 346,\n",
       " 0: 0,\n",
       " 1: 582,\n",
       " 2: 403,\n",
       " 3: 288,\n",
       " 4: 236,\n",
       " 5: 138,\n",
       " 6: 128,\n",
       " 7: 62,\n",
       " 8: 28}"
      ]
     },
     "execution_count": 8,
     "metadata": {},
     "output_type": "execute_result"
    }
   ],
   "source": [
    "lag_count"
   ]
  },
  {
   "cell_type": "code",
   "execution_count": null,
   "metadata": {},
   "outputs": [],
   "source": []
  },
  {
   "cell_type": "code",
   "execution_count": null,
   "metadata": {},
   "outputs": [],
   "source": []
  },
  {
   "cell_type": "code",
   "execution_count": null,
   "metadata": {},
   "outputs": [],
   "source": []
  }
 ],
 "metadata": {
  "kernelspec": {
   "display_name": "Python 3",
   "language": "python",
   "name": "python3"
  },
  "language_info": {
   "codemirror_mode": {
    "name": "ipython",
    "version": 3
   },
   "file_extension": ".py",
   "mimetype": "text/x-python",
   "name": "python",
   "nbconvert_exporter": "python",
   "pygments_lexer": "ipython3",
   "version": "3.7.3"
  }
 },
 "nbformat": 4,
 "nbformat_minor": 2
}
